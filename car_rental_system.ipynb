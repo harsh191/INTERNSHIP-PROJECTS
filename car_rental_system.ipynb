    {
      "cell_type": "markdown",
      "source": [
        "## **CAR RENTAL SYSTEM USING OOPS**"
      ],
      "metadata": {
        "id": "tLxvAIUon7PP"
      }
    },
    {
      "cell_type": "code",
      "source": [],
      "metadata": {
        "id": "8eEhTICA3fwb"
      },
      "execution_count": null,
      "outputs": []
    },
    {
      "cell_type": "code",
      "source": [
        "print('CAR RENTAL BUISNESS')\n",
        "name=input('Enter your name  ')\n",
        "print('Welcome',name)\n",
        "class Rental:\n",
        "  def __init__(self,list,car):\n",
        "    self.carlist=list\n",
        "    self.lendDict={}\n",
        "\n",
        "  def displaycars(self):\n",
        "    print(\"Available cars:\")\n",
        "    for car in self.carlist:\n",
        "      print(car)\n",
        "  def lend(self):\n",
        "    car=input(\"Car you want to lend\")\n",
        "    self.lendDict.update({car:name})\n",
        "    self.carlist.remove(car)\n",
        "\n",
        "  def carreturn(self):\n",
        "    car1=input(\"Car return\")\n",
        "    self.lendDict.pop(car)\n",
        "    self.carlist.append(car)\n",
        "\n",
        "if __name__ == '__main__':\n",
        "  harsh = Rental(['honda amaze','Honda city','Tata Nexon','Toyota Fortuner'],'car')\n",
        "\n",
        "  while(True):\n",
        "    print('Please select any one option')\n",
        "    print('1 -> Available cars')\n",
        "    print('2 -> Car you want to lend')\n",
        "    print('3 -> Return car')\n",
        "    print('4 -> exit')\n",
        "\n",
        "    choice=int(input())\n",
        "    if choice not in range(1,5):\n",
        "      print('Enter valid option')\n",
        "      break\n",
        "\n",
        "    if choice==1:\n",
        "      print('Cars available')\n",
        "      harsh.displaycars()\n",
        "    elif choice==2:\n",
        "      print('Car name ')\n",
        "      harsh.lend()\n",
        "      print('Thank you for choosing us')\n",
        "      break\n",
        "    elif choice==3:\n",
        "      harsh.carreturn()\n",
        "      print('Thanks for returning car safely')\n",
        "      break\n",
        "    else:\n",
        "      print('Thanks for trusting us')\n",
        "      break"
      ],
      "metadata": {
        "colab": {
          "base_uri": "https://localhost:8080/"
        },
        "id": "dk-kP1O1oDpu",
        "outputId": "43e5c83d-d900-4a94-9f2a-152599774247"
      },
      "execution_count": 53,
      "outputs": [
        {
          "output_type": "stream",
          "name": "stdout",
          "text": [
            "CAR RENTAL BUISNESS\n",
            "Enter your name  harsh\n",
            "Welcome harsh\n",
            "Please select any one option\n",
            "1 -> Available cars\n",
            "2 -> Car you want to lend\n",
            "3 -> Return car\n",
            "4 -> exit\n",
            "2\n",
            "Car name \n",
            "Car you want to lendTata Nexon\n",
            "Thank you for choosing us\n"
          ]
        }
      ]
    }
  ]
}
